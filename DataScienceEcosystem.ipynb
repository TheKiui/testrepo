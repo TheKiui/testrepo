{
 "cells": [
  {
   "cell_type": "markdown",
   "id": "291fa887-326a-41bf-8f91-2c901e06451a",
   "metadata": {},
   "source": [
    "# Data Science Tools and Ecosystem"
   ]
  },
  {
   "cell_type": "markdown",
   "id": "a0bc91b6-3dc6-4d0d-93aa-dfc199a09a4f",
   "metadata": {},
   "source": [
    "### In this notebook, Data Science Tools and Ecosystem are summarized"
   ]
  },
  {
   "cell_type": "markdown",
   "id": "ba563ead-52c6-44ce-88c3-cd1068c2fe67",
   "metadata": {},
   "source": [
    "### *Objectives*\n",
    "- List popular Data Science languages\n",
    "- Introduction to data analysis\n",
    "- Compare different enviroments\n",
    "- Key programas and libraries for Data Science"
   ]
  },
  {
   "cell_type": "markdown",
   "id": "bd803b3a-7f8e-4936-8cc5-b21c9e32bdb4",
   "metadata": {},
   "source": [
    "#### Some of the popular languages that Data Scientists use are:\n",
    "1. Python\n",
    "2. Java\n",
    "3. C#"
   ]
  },
  {
   "cell_type": "markdown",
   "id": "68faafb6-9001-454b-bc6d-45bb1af88918",
   "metadata": {},
   "source": [
    "#### Some of the commonly used libraries used by Data Scientists include:\n",
    "1. Pandas\n",
    "2. Numpy\n",
    "3. Scikit-learn"
   ]
  },
  {
   "cell_type": "markdown",
   "id": "814d244a-5720-4249-a98a-192416543deb",
   "metadata": {},
   "source": [
    "| Data Science Tools |\n",
    "|--------------------|\n",
    "| Jupyter Notebook   |\n",
    "| RStudio            |\n",
    "| Apache Zeppelin    |\n"
   ]
  },
  {
   "cell_type": "markdown",
   "id": "06ae6aaf-1a26-4657-9e47-e541fa9770b4",
   "metadata": {},
   "source": [
    "### Below are a few examples of evaluating arithmetic expressions in Python"
   ]
  },
  {
   "cell_type": "code",
   "execution_count": 9,
   "id": "11baebe7-9de8-481d-b9bf-030e3f18b605",
   "metadata": {},
   "outputs": [
    {
     "data": {
      "text/plain": [
       "17"
      ]
     },
     "execution_count": 9,
     "metadata": {},
     "output_type": "execute_result"
    }
   ],
   "source": [
    "#This a simple arithmetic expression to mutiply then add integers\n",
    "(3*4)+5"
   ]
  },
  {
   "cell_type": "code",
   "execution_count": 13,
   "id": "20f27373-6354-45b7-a1bc-076684e15a87",
   "metadata": {},
   "outputs": [
    {
     "name": "stdout",
     "output_type": "stream",
     "text": [
      "3.3333333333333335\n"
     ]
    }
   ],
   "source": [
    "#This will convert 200 minutes to hours by diving by 60\n",
    "minute = 200\n",
    "result = minute / 60\n",
    "print(result)"
   ]
  },
  {
   "cell_type": "markdown",
   "id": "47618bee-4d17-4c3d-9083-7797a6168c99",
   "metadata": {},
   "source": [
    "## Author: Marcos Ramos, alias TheKiui"
   ]
  },
  {
   "cell_type": "code",
   "execution_count": null,
   "id": "66ca71c4-6bb3-4cc6-8f6e-27ca5f6ea09b",
   "metadata": {},
   "outputs": [],
   "source": []
  }
 ],
 "metadata": {
  "kernelspec": {
   "display_name": "Python 3 (ipykernel)",
   "language": "python",
   "name": "python3"
  },
  "language_info": {
   "codemirror_mode": {
    "name": "ipython",
    "version": 3
   },
   "file_extension": ".py",
   "mimetype": "text/x-python",
   "name": "python",
   "nbconvert_exporter": "python",
   "pygments_lexer": "ipython3",
   "version": "3.12.4"
  }
 },
 "nbformat": 4,
 "nbformat_minor": 5
}
